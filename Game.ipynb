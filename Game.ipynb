{
 "cells": [
  {
   "cell_type": "code",
   "execution_count": 140,
   "id": "0aef46e1-30e5-4521-82ef-505f170d6c45",
   "metadata": {},
   "outputs": [],
   "source": [
    "import numpy as np\n",
    "import matplotlib.pyplot as plt\n",
    "\n",
    "class GameOfLife(object):  \n",
    "    \n",
    "    \n",
    "    def __init__(self, x_dim, y_dim):\n",
    "        self.matrix=[[0]*y_dim for _ in range(x_dim)]\n",
    "        self.x_dim=x_dim\n",
    "        self.y_dim=y_dim\n",
    "    \n",
    "    def get_grid(self):\n",
    "        \n",
    "        print(self.matrix)\n",
    "\n",
    "    def print_grid(self):\n",
    "        for i in range(self.x_dim):\n",
    "            for j in range(self.y_dim):\n",
    "                print(self.matrix[i][j],end=\"\")\n",
    "                print(\"|\",end=\"\")\n",
    "            print(\"\\n\")\n",
    "            print('-' *2* self.y_dim)\n",
    "            \n",
    "        pass\n",
    "\n",
    "    def populate_grid(self, coord):\n",
    "        for i in coord:\n",
    "            if i[0]<=self.x_dim-1 and i[1]<=self.y_dim-1:\n",
    "               self.matrix[i[0]][i[1]]=1\n",
    "            else:\n",
    "                print(f\"Enter within {self.x_dim} and {self.y_dim}\")\n",
    "       \n",
    "\n",
    "    def make_step(self):\n",
    "        \n",
    "        sum_grid=[[0]*self.y_dim for _ in range(self.x_dim)]\n",
    "        for i in range(self.x_dim):\n",
    "            if i-1>=0:\n",
    "                x1=i-1\n",
    "            else:\n",
    "                x1=i\n",
    "            if(i+1<self.x_dim):\n",
    "                x2=i+2\n",
    "            else:\n",
    "                x2=i+1\n",
    "            for j in range(self.y_dim):\n",
    "                count=0\n",
    "                if j-1<0:\n",
    "                    y1=0\n",
    "                else:\n",
    "                    y1=j-1\n",
    "                if j+1<self.y_dim:\n",
    "                    y2=j+2\n",
    "                else:\n",
    "                    y2=j+1\n",
    "               \n",
    "                \n",
    "                for a in range(x1,x2):\n",
    "                    for b in range(y1,y2):\n",
    "                        if a==i and b==j:\n",
    "                            continue\n",
    "                        if self.matrix[a][b]==1:\n",
    "                            count+=1\n",
    "                sum_grid[i][j]=count\n",
    "        for i in range(self.x_dim):\n",
    "            for j in range(self.y_dim):\n",
    "                if sum_grid[i][j]<2 and self.matrix[i][j]==1:\n",
    "                    self.matrix[i][j]=0\n",
    "                elif (sum_grid[i][j]==2 or sum_grid[i][j]==3) and self.matrix[i][j]==1:\n",
    "                    self.matrix[i][j]=1\n",
    "                elif sum_grid[i][j]>3 and self.matrix[i][j]==1:\n",
    "                    self.matrix[i][j]=0\n",
    "                elif sum_grid[i][j]==3 and self.matrix[i][j]==0:\n",
    "                    self.matrix[i][j]=1\n",
    "        \n",
    "                    \n",
    "                    \n",
    "\n",
    "    def make_n_steps(self, n):\n",
    "        for i in range(n):\n",
    "            self.make_step()\n",
    "\n",
    "    def printres(self):\n",
    "        for i in range(self.x_dim):\n",
    "            for j in range(self.y_dim):\n",
    "                print(self.matrix[i][j],end=\"\")\n",
    "                print(\"|\",end=\"\")\n",
    "            print(\"\\n\")\n",
    "            print('-' *2* self.y_dim)\n",
    "        \n",
    "        \n",
    "\n",
    "    def draw_grid(self):\n",
    "        xcor=[]\n",
    "        ycor=[]\n",
    "        for i in range(self.y_dim):\n",
    "            for j in range(self.x_dim):\n",
    "                xcor.append(j)\n",
    "                ycor.append(i)\n",
    "        fig,axs=plt.subplots()\n",
    "        axs.set_xlim(-2,self.x_dim+1)\n",
    "        axs.set_ylim(-2,self.y_dim+1)\n",
    "        for i in range(self.x_dim):\n",
    "            for j in range(self.y_dim):\n",
    "                \n",
    "                f_x = self.y_dim - 1 - j \n",
    "                f_y = self.x_dim - 1 - i\n",
    "                \n",
    "\n",
    "                if self.matrix[i][j]==1:\n",
    "                    axs.scatter(f_x,f_y,color=\"green\",s=100,marker=\"s\")\n",
    "                else:\n",
    "                    axs.scatter(f_x,f_y,color=\"black\",s=100,marker=\"s\")\n",
    "                    \n",
    "                    \n",
    "        "
   ]
  },
  {
   "cell_type": "code",
   "execution_count": 142,
   "id": "f3dbd520-d13a-49b8-a6b8-4253da78a01b",
   "metadata": {},
   "outputs": [],
   "source": [
    "x=GameOfLife(3,3)"
   ]
  },
  {
   "cell_type": "code",
   "execution_count": 144,
   "id": "1c979aa6-0055-46ce-b50e-1a8386d725db",
   "metadata": {},
   "outputs": [],
   "source": [
    "x.populate_grid([[0,0],[0,2],[1,1],[2,1]])"
   ]
  },
  {
   "cell_type": "code",
   "execution_count": 146,
   "id": "048d846b-b2df-4f81-89c0-4268a4bdab35",
   "metadata": {},
   "outputs": [
    {
     "name": "stdout",
     "output_type": "stream",
     "text": [
      "1|0|1|\n",
      "\n",
      "------\n",
      "0|1|0|\n",
      "\n",
      "------\n",
      "0|1|0|\n",
      "\n",
      "------\n"
     ]
    },
    {
     "data": {
      "image/png": "[encoded data removed]",
      "text/plain": [
       "<Figure size 640x480 with 1 Axes>"
      ]
     },
     "metadata": {},
     "output_type": "display_data"
    }
   ],
   "source": [
    "x.print_grid()\n",
    "x.draw_grid()"
   ]
  },
  {
   "cell_type": "code",
   "execution_count": null,
   "id": "13496376-5ed6-459c-a4fd-299a6508ee93",
   "metadata": {},
   "outputs": [],
   "source": []
  },
  {
   "cell_type": "code",
   "execution_count": 149,
   "id": "be549d20-f215-491a-81ac-738b0b40c049",
   "metadata": {},
   "outputs": [],
   "source": [
    "x.make_n_steps(2)"
   ]
  },
  {
   "cell_type": "code",
   "execution_count": 151,
   "id": "39fa1e71-33a4-433d-a699-adf1008bdd03",
   "metadata": {},
   "outputs": [
    {
     "name": "stdout",
     "output_type": "stream",
     "text": [
      "1|1|1|\n",
      "\n",
      "------\n",
      "1|1|1|\n",
      "\n",
      "------\n",
      "0|1|0|\n",
      "\n",
      "------\n"
     ]
    }
   ],
   "source": [
    "x.printres()"
   ]
  },
  {
   "cell_type": "code",
   "execution_count": 153,
   "id": "21bac617-0bff-499b-86e4-00c40688cb50",
   "metadata": {},
   "outputs": [
    {
     "data": {
      "image/png": "[encoded data removed]",
      "text/plain": [
       "<Figure size 640x480 with 1 Axes>"
      ]
     },
     "metadata": {},
     "output_type": "display_data"
    }
   ],
   "source": [
    "x.draw_grid()"
   ]
  },
  {
   "cell_type": "code",
   "execution_count": null,
   "id": "e48336fd-5e6a-444c-811a-2525012cafa2",
   "metadata": {},
   "outputs": [],
   "source": []
  },
  {
   "cell_type": "code",
   "execution_count": null,
   "id": "dad2215d-49df-41c1-81c5-7309565f6f32",
   "metadata": {},
   "outputs": [],
   "source": []
  }
 ],
 "metadata": {
  "kernelspec": {
   "display_name": "Python [conda env:base] *",
   "language": "python",
   "name": "conda-base-py"
  },
  "language_info": {
   "codemirror_mode": {
    "name": "ipython",
    "version": 3
   },
   "file_extension": ".py",
   "mimetype": "text/x-python",
   "name": "python",
   "nbconvert_exporter": "python",
   "pygments_lexer": "ipython3",
   "version": "3.11.11"
  }
 },
 "nbformat": 4,
 "nbformat_minor": 5
}
